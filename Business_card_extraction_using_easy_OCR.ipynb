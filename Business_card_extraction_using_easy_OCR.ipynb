{
  "nbformat": 4,
  "nbformat_minor": 0,
  "metadata": {
    "colab": {
      "provenance": []
    },
    "kernelspec": {
      "name": "python3",
      "display_name": "Python 3"
    },
    "language_info": {
      "name": "python"
    },
    "accelerator": "GPU",
    "gpuClass": "standard"
  },
  "cells": [
    {
      "cell_type": "code",
      "execution_count": null,
      "metadata": {
        "id": "2RNjWBtEGiAy"
      },
      "outputs": [],
      "source": [
        "!pip install streamlit"
      ]
    },
    {
      "cell_type": "code",
      "source": [
        "!pip install easyocr"
      ],
      "metadata": {
        "id": "tLfLMV_VGrx2"
      },
      "execution_count": null,
      "outputs": []
    },
    {
      "cell_type": "code",
      "source": [
        "!pip install pytesseract"
      ],
      "metadata": {
        "id": "n1ok9VAUHFVd"
      },
      "execution_count": null,
      "outputs": []
    },
    {
      "cell_type": "code",
      "source": [
        "!pip install opencv-python"
      ],
      "metadata": {
        "id": "W7A6N-K0Hymb"
      },
      "execution_count": null,
      "outputs": []
    },
    {
      "cell_type": "code",
      "source": [
        "!pip install pyngrok\n",
        "     "
      ],
      "metadata": {
        "id": "dyWJJsv6H3K_"
      },
      "execution_count": null,
      "outputs": []
    },
    {
      "cell_type": "code",
      "source": [
        "! ngrok config add-authtoken 2P0LznujREuShZx0WUKVWjMFlpN_2z2P1e8CFMWZ6Sjz32TJP"
      ],
      "metadata": {
        "colab": {
          "base_uri": "https://localhost:8080/"
        },
        "id": "Xn58L1RBHRvO",
        "outputId": "975fb8c5-8b33-49da-f9eb-f3d40779d3b2"
      },
      "execution_count": 13,
      "outputs": [
        {
          "output_type": "stream",
          "name": "stdout",
          "text": [
            "Authtoken saved to configuration file: /root/.ngrok2/ngrok.yml\n"
          ]
        }
      ]
    },
    {
      "cell_type": "code",
      "source": [
        "!./ngrok authtokens 2P0LznujREuShZx0WUKVWjMFlpN_2z2P1e8CFMWZ6Sjz32TJP"
      ],
      "metadata": {
        "colab": {
          "base_uri": "https://localhost:8080/"
        },
        "id": "JE48aphyJADZ",
        "outputId": "09d78c41-17f2-4522-9936-61d6f820693a"
      },
      "execution_count": 15,
      "outputs": [
        {
          "output_type": "stream",
          "name": "stdout",
          "text": [
            "/bin/bash: ./ngrok: No such file or directory\n"
          ]
        }
      ]
    },
    {
      "cell_type": "code",
      "source": [
        "from pyngrok import ngrok "
      ],
      "metadata": {
        "id": "rJETnEQQIfyM"
      },
      "execution_count": 9,
      "outputs": []
    },
    {
      "cell_type": "code",
      "source": [
        "%%writefile bizxapp.py\n",
        "\n",
        "import streamlit as st\n",
        "import easyocr\n",
        "import sqlite3\n",
        "import cv2\n",
        "import numpy as np \n",
        "import pandas as pd\n",
        "\n",
        "\n",
        "# Creating connection sqlite3 database\n",
        "conn = sqlite3.connect('card_extraction.db')\n",
        "c = conn.cursor()\n",
        "\n",
        "\n",
        "# Creating a table to store the business card information\n",
        "c.execute('''CREATE TABLE IF NOT EXISTS card_data \n",
        "              (id INT AUTO_INCREMENT PRIMARY KEY,\n",
        "              name TEXT,\n",
        "              position TEXT,\n",
        "              address TEXT,\n",
        "              pincode VARCHAR(25),\n",
        "              phone VARCHAR(25),\n",
        "              email TEXT,\n",
        "              website TEXT,\n",
        "              company TEXT\n",
        "              )''')\n",
        "\n",
        "#EasyOCR to read the data\n",
        "reader = easyocr.Reader(['en'])\n",
        "\n",
        "# Title \n",
        "st.title(\":red[Business card extraction using OCR]\")\n",
        "\n",
        "# File uploader\n",
        "file_upload = st.file_uploader(\":green[UPLOAD CARD]\", type=[\"jpg\", \"jpeg\", \"png\", \"tiff\", \"tif\", \"gif\"])\n",
        "\n",
        "\n",
        "# Creating side bar\n",
        "st.sidebar.title(\":purple[BIZCARDX]\")\n",
        "\n",
        "tabs = ['Insert Data', 'View Data', 'Edit Card', \"Delete card\"]\n",
        "choose = st.sidebar.selectbox(\"Select\", tabs)\n",
        "\n",
        "if choose == 'Insert Data':\n",
        "    if file_upload is not None:\n",
        "        \n",
        "        # Read the image using OpenCV\n",
        "        image = cv2.imdecode(np.fromstring(file_upload.read(), np.uint8), 1)\n",
        "        \n",
        "        # Display the uploaded img\n",
        "        st.image(image, caption='Ready for Extraction', use_column_width=True)\n",
        "        \n",
        "        # Extracting information from the image\n",
        "        if st.button('Extract Data'):\n",
        "            bsc = reader.readtext(image, detail=0)\n",
        "            text = \"\\n\".join(bsc)\n",
        "            \n",
        "            # Extracted data to be stored in sqliteDB\n",
        "            sql_data = \"INSERT INTO card_data (name, position, address, pincode, phone, email, website, company) VALUES ( ?, ?, ?, ?, ?, ?, ?, ?)\"\n",
        "            values = (bsc[0], bsc[1], bsc[2], bsc[3], bsc[4], bsc[5], bsc[6], bsc[7])\n",
        "            c.execute(sql_data, values)\n",
        "            conn.commit()\n",
        "\n",
        "            st.success(\"card Extracted stored on View Data Tab\")\n",
        "\n",
        "elif choose == 'View Data':\n",
        "    \n",
        "    # show Extracted business card information\n",
        "    c.execute(\"SELECT * FROM card_data\")\n",
        "    result = c.fetchall()\n",
        "    df = pd.DataFrame(result, columns=['id','name', 'position', 'address', 'pincode', 'phone', 'email', 'website', 'company'])\n",
        "    st.write(df)\n",
        "\n",
        "\n",
        "elif choose == 'Edit Card':\n",
        "    \n",
        "    # Create a dropdown menu to select a business card to edit\n",
        "    c.execute(\"SELECT id, name FROM card_data\")\n",
        "    result = c.fetchall()\n",
        "    business_cards = {}\n",
        "    \n",
        "    for row in result:\n",
        "        business_cards[row[1]] = row[0]\n",
        "    select_card_name = st.selectbox(\"Select Card To Edit\", list(business_cards.keys()))\n",
        "    \n",
        "    # Getting the information of selected business card\n",
        "    c.execute(\"SELECT * FROM card_data WHERE name=?\", (select_card_name,))\n",
        "    result = c.fetchone()\n",
        "\n",
        "    # edited information \n",
        "    name = st.text_input(\"Name\", result[1])\n",
        "    position = st.text_input(\"Position\", result[2])\n",
        "    address = st.text_input(\"Address\", result[3])\n",
        "    pincode = st.text_input(\"Pincode\", result[4])\n",
        "    phone = st.text_input(\"Phone\", result[5])\n",
        "    email = st.text_input(\"Email\", result[6])\n",
        "    website = st.text_input(\"Website\", result[7])\n",
        "    company = st.text_input(\"Company_Name\", result[8])\n",
        "\n",
        "    \n",
        "    #Button for to updating the business card\n",
        "    if st.button(\"Edit Card\"):\n",
        "        \n",
        "        # Update the information for the selected business card in the DB\n",
        "        c.execute(\"UPDATE card_data SET name=?, position=?, address=?, pincode=?, phone=?, email=?, website=?, company=? WHERE name=?\", \n",
        "                             (name, position, address, pincode, phone, email, website, company, select_card_name))\n",
        "        conn.commit()\n",
        "        st.success(\"Bizcard Updated\")\n",
        "\n",
        "if choose == 'Delete card':\n",
        "    \n",
        "    # Creating  dropdown menu to delete the stored Business card\n",
        "    c.execute(\"SELECT id, name FROM card_data\")\n",
        "    result = c.fetchall()\n",
        "    business_cards = {}\n",
        "    \n",
        "    for row in result:\n",
        "        business_cards[row[1]] = row[0]\n",
        "    select_card_name = st.selectbox(\"Select Card To Delete\", list(business_cards.keys()))\n",
        "    \n",
        "    # Button for delete the card\n",
        "    if st.button(\"Delete Card\"):\n",
        "        \n",
        "        # Deleting the info on DB\n",
        "        c.execute(\"DELETE FROM card_data WHERE name=?\", (select_card_name,))\n",
        "        conn.commit()\n",
        "        st.success(\"Card Deleted\")\n"
      ],
      "metadata": {
        "colab": {
          "base_uri": "https://localhost:8080/"
        },
        "id": "Zowk4pGAHRzx",
        "outputId": "d5ac4568-93ca-4781-8c3f-a5de554db2ad"
      },
      "execution_count": 40,
      "outputs": [
        {
          "output_type": "stream",
          "name": "stdout",
          "text": [
            "Writing bizxapp.py\n"
          ]
        }
      ]
    },
    {
      "cell_type": "code",
      "source": [
        "!streamlit run /content/bizxapp.py & npx localtunnel -p 8501"
      ],
      "metadata": {
        "id": "vwndNgWkHR3K"
      },
      "execution_count": null,
      "outputs": []
    },
    {
      "cell_type": "code",
      "source": [],
      "metadata": {
        "id": "eGoLv8GTHR5P"
      },
      "execution_count": null,
      "outputs": []
    },
    {
      "cell_type": "code",
      "source": [],
      "metadata": {
        "id": "uhvxgvndHR7M"
      },
      "execution_count": null,
      "outputs": []
    },
    {
      "cell_type": "code",
      "source": [],
      "metadata": {
        "id": "uDwVmnCeHR9H"
      },
      "execution_count": null,
      "outputs": []
    },
    {
      "cell_type": "code",
      "source": [],
      "metadata": {
        "id": "oBHQZ8lPHR_N"
      },
      "execution_count": null,
      "outputs": []
    }
  ]
}